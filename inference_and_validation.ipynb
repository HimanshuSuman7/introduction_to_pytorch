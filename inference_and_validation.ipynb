{
 "cells": [
  {
   "cell_type": "code",
   "execution_count": 58,
   "metadata": {
    "ExecuteTime": {
     "end_time": "2020-05-19T09:56:46.062376Z",
     "start_time": "2020-05-19T09:56:45.769484Z"
    }
   },
   "outputs": [],
   "source": [
    "import helper\n",
    "import matplotlib.pyplot as plt\n",
    "\n",
    "import torch\n",
    "from torch import nn, optim\n",
    "import torch.nn.functional as F\n",
    "from torchvision import datasets, transforms"
   ]
  },
  {
   "cell_type": "code",
   "execution_count": 42,
   "metadata": {
    "ExecuteTime": {
     "end_time": "2020-05-19T09:39:34.597895Z",
     "start_time": "2020-05-19T09:39:34.559893Z"
    }
   },
   "outputs": [],
   "source": [
    "%matplotlib inline\n",
    "%config InlineBackend.figure_format = \"retina\""
   ]
  },
  {
   "cell_type": "markdown",
   "metadata": {},
   "source": [
    "### Load Data"
   ]
  },
  {
   "cell_type": "code",
   "execution_count": 43,
   "metadata": {
    "ExecuteTime": {
     "end_time": "2020-05-19T09:39:34.630929Z",
     "start_time": "2020-05-19T09:39:34.599892Z"
    }
   },
   "outputs": [],
   "source": [
    "transform = transforms.Compose([transforms.ToTensor(), \n",
    "                                transforms.Normalize((0.5,), (0.5,))])"
   ]
  },
  {
   "cell_type": "code",
   "execution_count": 44,
   "metadata": {
    "ExecuteTime": {
     "end_time": "2020-05-19T09:39:34.689894Z",
     "start_time": "2020-05-19T09:39:34.632897Z"
    }
   },
   "outputs": [],
   "source": [
    "train_set = datasets.FashionMNIST(\"../Data/\", download=False, train=True, transform=transform)\n",
    "train_loader = torch.utils.data.DataLoader(train_set, batch_size=64, shuffle=True)"
   ]
  },
  {
   "cell_type": "code",
   "execution_count": 45,
   "metadata": {
    "ExecuteTime": {
     "end_time": "2020-05-19T09:39:34.704905Z",
     "start_time": "2020-05-19T09:39:34.690892Z"
    }
   },
   "outputs": [],
   "source": [
    "test_set = datasets.FashionMNIST(\"../Data/\", download=False, train=False, transform=transform)\n",
    "test_loader = torch.utils.data.DataLoader(test_set, batch_size=64, shuffle=True)"
   ]
  },
  {
   "cell_type": "markdown",
   "metadata": {},
   "source": [
    "### Building Model and Calculating Validation Loss"
   ]
  },
  {
   "cell_type": "code",
   "execution_count": 46,
   "metadata": {
    "ExecuteTime": {
     "end_time": "2020-05-19T09:39:34.720899Z",
     "start_time": "2020-05-19T09:39:34.706933Z"
    }
   },
   "outputs": [],
   "source": [
    "class Classifier(nn.Module):\n",
    "    def __init__(self):\n",
    "        super().__init__()\n",
    "        self.fc1 = nn.Linear(784, 256)\n",
    "        self.fc2 = nn.Linear(256, 128)\n",
    "        self.fc3 = nn.Linear(128, 64)\n",
    "        self.fc4 = nn.Linear(64, 10)\n",
    "        \n",
    "    def forward(self, x):\n",
    "        x = x.view(x.shape[0], -1)\n",
    "        x = F.relu(self.fc1(x))\n",
    "        x = F.relu(self.fc2(x))\n",
    "        x = F.relu(self.fc3(x))\n",
    "        x = F.log_softmax(self.fc4(x), dim=1)\n",
    "        return x"
   ]
  },
  {
   "cell_type": "code",
   "execution_count": 47,
   "metadata": {
    "ExecuteTime": {
     "end_time": "2020-05-19T09:39:34.760896Z",
     "start_time": "2020-05-19T09:39:34.722898Z"
    }
   },
   "outputs": [
    {
     "data": {
      "text/plain": [
       "torch.Size([64, 10])"
      ]
     },
     "execution_count": 47,
     "metadata": {},
     "output_type": "execute_result"
    }
   ],
   "source": [
    "images, labels = next(iter(test_loader))\n",
    "prob = torch.exp(model(images))\n",
    "prob.shape"
   ]
  },
  {
   "cell_type": "code",
   "execution_count": 48,
   "metadata": {
    "ExecuteTime": {
     "end_time": "2020-05-19T09:39:34.778892Z",
     "start_time": "2020-05-19T09:39:34.764893Z"
    }
   },
   "outputs": [
    {
     "name": "stdout",
     "output_type": "stream",
     "text": [
      "tensor([1.0000], grad_fn=<SelectBackward>) : tensor([9])\n",
      "tensor([0.9245], grad_fn=<SelectBackward>) : tensor([7])\n",
      "tensor([0.5366], grad_fn=<SelectBackward>) : tensor([3])\n",
      "tensor([0.9639], grad_fn=<SelectBackward>) : tensor([3])\n",
      "tensor([0.7993], grad_fn=<SelectBackward>) : tensor([7])\n",
      "torch.Size([64, 1])\n",
      "torch.Size([64, 1])\n"
     ]
    }
   ],
   "source": [
    "top_prob, top_class = prob.topk(1, dim=1)\n",
    "for i in range(5):\n",
    "    print(\"{} : {}\".format(top_prob[i], top_class[i]))\n",
    "\n",
    "print(top_prob.shape)\n",
    "print(top_class.shape)"
   ]
  },
  {
   "cell_type": "code",
   "execution_count": 49,
   "metadata": {
    "ExecuteTime": {
     "end_time": "2020-05-19T09:39:34.794896Z",
     "start_time": "2020-05-19T09:39:34.782895Z"
    }
   },
   "outputs": [],
   "source": [
    "equals = top_class == labels.view(*top_class.shape)"
   ]
  },
  {
   "cell_type": "code",
   "execution_count": 50,
   "metadata": {
    "ExecuteTime": {
     "end_time": "2020-05-19T09:39:34.818917Z",
     "start_time": "2020-05-19T09:39:34.797891Z"
    }
   },
   "outputs": [
    {
     "name": "stdout",
     "output_type": "stream",
     "text": [
      "Accuracy : 81.25 %\n"
     ]
    }
   ],
   "source": [
    "accuracy = torch.mean(equals.type(torch.FloatTensor))\n",
    "print(\"Accuracy : {} %\".format(accuracy.item() * 100))"
   ]
  },
  {
   "cell_type": "code",
   "execution_count": 51,
   "metadata": {
    "ExecuteTime": {
     "end_time": "2020-05-19T09:39:34.847892Z",
     "start_time": "2020-05-19T09:39:34.823893Z"
    }
   },
   "outputs": [],
   "source": [
    "model = Classifier()\n",
    "criterion = nn.NLLLoss()\n",
    "optimizer = optim.Adam(model.parameters(), lr=0.005)"
   ]
  },
  {
   "cell_type": "code",
   "execution_count": 52,
   "metadata": {
    "ExecuteTime": {
     "end_time": "2020-05-19T09:45:45.176136Z",
     "start_time": "2020-05-19T09:39:34.850895Z"
    }
   },
   "outputs": [
    {
     "name": "stdout",
     "output_type": "stream",
     "text": [
      "--------------------------------------------------\n",
      " Epoch : 1 / 10\n",
      " Training loss : 0.5300909760060595\n",
      " Test loss : 0.4734014570713043\n",
      " Test Accuracy : 0.8269307613372803\n",
      "\n",
      "--------------------------------------------------\n",
      " Epoch : 2 / 10\n",
      " Training loss : 0.40956730841954886\n",
      " Test loss : 0.4523494243621826\n",
      " Test Accuracy : 0.8452428579330444\n",
      "\n",
      "--------------------------------------------------\n",
      " Epoch : 3 / 10\n",
      " Training loss : 0.3863901173604577\n",
      " Test loss : 0.4122695326805115\n",
      " Test Accuracy : 0.8479299545288086\n",
      "\n",
      "--------------------------------------------------\n",
      " Epoch : 4 / 10\n",
      " Training loss : 0.35941324682473375\n",
      " Test loss : 0.4020839035511017\n",
      " Test Accuracy : 0.8565883636474609\n",
      "\n",
      "--------------------------------------------------\n",
      " Epoch : 5 / 10\n",
      " Training loss : 0.34588490142179196\n",
      " Test loss : 0.3950156569480896\n",
      " Test Accuracy : 0.8631568551063538\n",
      "\n",
      "--------------------------------------------------\n",
      " Epoch : 6 / 10\n",
      " Training loss : 0.3314352377947333\n",
      " Test loss : 0.39153361320495605\n",
      " Test Accuracy : 0.8644506335258484\n",
      "\n",
      "--------------------------------------------------\n",
      " Epoch : 7 / 10\n",
      " Training loss : 0.321089722327332\n",
      " Test loss : 0.3919071853160858\n",
      " Test Accuracy : 0.8642516136169434\n",
      "\n",
      "--------------------------------------------------\n",
      " Epoch : 8 / 10\n",
      " Training loss : 0.3201341997824117\n",
      " Test loss : 0.3809904456138611\n",
      " Test Accuracy : 0.8685310482978821\n",
      "\n",
      "--------------------------------------------------\n",
      " Epoch : 9 / 10\n",
      " Training loss : 0.3120062939409635\n",
      " Test loss : 0.41080242395401\n",
      " Test Accuracy : 0.8610668778419495\n",
      "\n",
      "--------------------------------------------------\n",
      " Epoch : 10 / 10\n",
      " Training loss : 0.3000793356392811\n",
      " Test loss : 0.4072718918323517\n",
      " Test Accuracy : 0.862957775592804\n",
      "\n"
     ]
    }
   ],
   "source": [
    "epochs = 10\n",
    "steps = 0\n",
    "\n",
    "train_losses, test_losses = [], []\n",
    "for e in range(epochs):\n",
    "    running_loss = 0\n",
    "    for images, labels in train_loader:\n",
    "        optimizer.zero_grad()\n",
    "        log_ps = model(images)\n",
    "        loss = criterion(log_ps, labels)\n",
    "        loss.backward()\n",
    "        optimizer.step()\n",
    "        running_loss += loss.item()\n",
    "    else:\n",
    "        test_loss = 0\n",
    "        accuracy = 0\n",
    "        with torch.no_grad():\n",
    "            for images, labels in test_loader:\n",
    "                log_ps = model(images)\n",
    "                test_loss += criterion(log_ps, labels)\n",
    "                \n",
    "                ps = torch.exp(log_ps)\n",
    "                top_ps, top_class = ps.topk(1, dim=1) \n",
    "                equals = top_class == labels.view(*top_class.shape)\n",
    "                accuracy += torch.mean(equals.type(torch.FloatTensor))\n",
    "                \n",
    "        train_losses.append(running_loss / len(train_loader))\n",
    "        test_losses.append(test_loss / len(test_loader))\n",
    "        \n",
    "        print(\"{}\\n\".format(\"-\" * 50),\n",
    "              \"Epoch : {} / {}\\n\".format(e + 1, epochs),\n",
    "              \"Training loss : {}\\n\".format(running_loss / len(train_loader)),\n",
    "              \"Test loss : {}\\n\".format(test_loss / len(test_loader)),\n",
    "              \"Test Accuracy : {}\\n\".format(accuracy / len(test_loader)))"
   ]
  },
  {
   "cell_type": "code",
   "execution_count": 53,
   "metadata": {
    "ExecuteTime": {
     "end_time": "2020-05-19T09:45:45.483398Z",
     "start_time": "2020-05-19T09:45:45.178137Z"
    }
   },
   "outputs": [
    {
     "data": {
      "image/png": "[encoded data removed]",
      "text/plain": [
       "<Figure size 432x288 with 1 Axes>"
      ]
     },
     "metadata": {
      "image/png": {
       "height": 248,
       "width": 378
      },
      "needs_background": "light"
     },
     "output_type": "display_data"
    }
   ],
   "source": [
    "plt.plot(train_losses, label=\"Training Loss\")\n",
    "plt.plot(test_losses, label=\"Validation Loss\")\n",
    "plt.legend(frameon=False)\n",
    "plt.show()"
   ]
  },
  {
   "cell_type": "markdown",
   "metadata": {},
   "source": [
    "### Applying Dropout"
   ]
  },
  {
   "cell_type": "code",
   "execution_count": 54,
   "metadata": {
    "ExecuteTime": {
     "end_time": "2020-05-19T09:48:30.689740Z",
     "start_time": "2020-05-19T09:48:30.682775Z"
    }
   },
   "outputs": [],
   "source": [
    "class Classifier(nn.Module):\n",
    "    def __init__(self):\n",
    "        super().__init__()\n",
    "        \n",
    "        self.fc1 = nn.Linear(784, 256)\n",
    "        self.fc2 = nn.Linear(256, 128)\n",
    "        self.fc3 = nn.Linear(128, 64)\n",
    "        self.fc4 = nn.Linear(64, 10)\n",
    "        \n",
    "        self.dropout = nn.Dropout(p=0.2)\n",
    "        \n",
    "    def forward(self, x):\n",
    "        x = x.view(x.shape[0], -1)\n",
    "        \n",
    "        x = self.dropout(F.relu(self.fc1(x)))\n",
    "        x = self.dropout(F.relu(self.fc2(x)))\n",
    "        x = self.dropout(F.relu(self.fc3(x)))\n",
    "        \n",
    "        x = F.log_softmax(self.fc4(x), dim=1)\n",
    "        return x"
   ]
  },
  {
   "cell_type": "code",
   "execution_count": 55,
   "metadata": {
    "ExecuteTime": {
     "end_time": "2020-05-19T09:48:51.030153Z",
     "start_time": "2020-05-19T09:48:51.024107Z"
    }
   },
   "outputs": [],
   "source": [
    "model = Classifier()\n",
    "criterion = nn.NLLLoss()\n",
    "optimizer = optim.Adam(model.parameters(), lr=0.005)"
   ]
  },
  {
   "cell_type": "code",
   "execution_count": 56,
   "metadata": {
    "ExecuteTime": {
     "end_time": "2020-05-19T09:55:40.253991Z",
     "start_time": "2020-05-19T09:49:59.014028Z"
    }
   },
   "outputs": [
    {
     "name": "stdout",
     "output_type": "stream",
     "text": [
      "--------------------------------------------------\n",
      " Epoch : 1 / 10\n",
      " Training loss : 0.6541955661989732\n",
      " Test loss : 0.5038912296295166\n",
      " Test Accuracy : 0.8212579488754272\n",
      "\n",
      "--------------------------------------------------\n",
      " Epoch : 2 / 10\n",
      " Training loss : 0.5551801416030062\n",
      " Test loss : 0.4848213791847229\n",
      " Test Accuracy : 0.8226512670516968\n",
      "\n",
      "--------------------------------------------------\n",
      " Epoch : 3 / 10\n",
      " Training loss : 0.5229823443013976\n",
      " Test loss : 0.5243468880653381\n",
      " Test Accuracy : 0.8238455653190613\n",
      "\n",
      "--------------------------------------------------\n",
      " Epoch : 4 / 10\n",
      " Training loss : 0.5100004394997412\n",
      " Test loss : 0.4691667854785919\n",
      " Test Accuracy : 0.8336982727050781\n",
      "\n",
      "--------------------------------------------------\n",
      " Epoch : 5 / 10\n",
      " Training loss : 0.5064440283979943\n",
      " Test loss : 0.48964837193489075\n",
      " Test Accuracy : 0.8324044346809387\n",
      "\n",
      "--------------------------------------------------\n",
      " Epoch : 6 / 10\n",
      " Training loss : 0.49934894799677804\n",
      " Test loss : 0.4417262077331543\n",
      " Test Accuracy : 0.8394705653190613\n",
      "\n",
      "--------------------------------------------------\n",
      " Epoch : 7 / 10\n",
      " Training loss : 0.5027531210674661\n",
      " Test loss : 0.44773685932159424\n",
      " Test Accuracy : 0.8392714858055115\n",
      "\n",
      "--------------------------------------------------\n",
      " Epoch : 8 / 10\n",
      " Training loss : 0.48205988841460967\n",
      " Test loss : 0.4559360146522522\n",
      " Test Accuracy : 0.8474323153495789\n",
      "\n",
      "--------------------------------------------------\n",
      " Epoch : 9 / 10\n",
      " Training loss : 0.48692348213401687\n",
      " Test loss : 0.4343913793563843\n",
      " Test Accuracy : 0.850417971611023\n",
      "\n",
      "--------------------------------------------------\n",
      " Epoch : 10 / 10\n",
      " Training loss : 0.4743766142234111\n",
      " Test loss : 0.4426407516002655\n",
      " Test Accuracy : 0.8446456789970398\n",
      "\n"
     ]
    }
   ],
   "source": [
    "epochs = 10\n",
    "steps = 0\n",
    "\n",
    "train_losses, test_losses = [], []\n",
    "for e in range(epochs):\n",
    "    running_loss = 0\n",
    "    for images, labels in train_loader:\n",
    "        optimizer.zero_grad()\n",
    "        log_ps = model(images)\n",
    "        loss = criterion(log_ps, labels)\n",
    "        loss.backward()\n",
    "        optimizer.step()\n",
    "        running_loss += loss.item()\n",
    "    else:\n",
    "        test_loss = 0\n",
    "        accuracy = 0\n",
    "        with torch.no_grad():\n",
    "            model.eval()\n",
    "            for images, labels in test_loader:\n",
    "                log_ps = model(images)\n",
    "                test_loss += criterion(log_ps, labels)\n",
    "                \n",
    "                ps = torch.exp(log_ps)\n",
    "                top_ps, top_class = ps.topk(1, dim=1) \n",
    "                equals = top_class == labels.view(*top_class.shape)\n",
    "                accuracy += torch.mean(equals.type(torch.FloatTensor))\n",
    "                \n",
    "        model.train()\n",
    "        \n",
    "        train_losses.append(running_loss / len(train_loader))\n",
    "        test_losses.append(test_loss / len(test_loader))\n",
    "        \n",
    "        print(\"{}\\n\".format(\"-\" * 50),\n",
    "              \"Epoch : {} / {}\\n\".format(e + 1, epochs),\n",
    "              \"Training loss : {}\\n\".format(running_loss / len(train_loader)),\n",
    "              \"Test loss : {}\\n\".format(test_loss / len(test_loader)),\n",
    "              \"Test Accuracy : {}\\n\".format(accuracy / len(test_loader)))"
   ]
  },
  {
   "cell_type": "code",
   "execution_count": 57,
   "metadata": {
    "ExecuteTime": {
     "end_time": "2020-05-19T09:55:44.880370Z",
     "start_time": "2020-05-19T09:55:44.720331Z"
    }
   },
   "outputs": [
    {
     "data": {
      "image/png": "[encoded data removed]",
      "text/plain": [
       "<Figure size 432x288 with 1 Axes>"
      ]
     },
     "metadata": {
      "image/png": {
       "height": 248,
       "width": 378
      },
      "needs_background": "light"
     },
     "output_type": "display_data"
    }
   ],
   "source": [
    "plt.plot(train_losses, label=\"Training Loss\")\n",
    "plt.plot(test_losses, label=\"Validation Loss\")\n",
    "plt.legend(frameon=False)\n",
    "plt.show()"
   ]
  },
  {
   "cell_type": "code",
   "execution_count": 59,
   "metadata": {
    "ExecuteTime": {
     "end_time": "2020-05-19T09:59:24.525312Z",
     "start_time": "2020-05-19T09:59:24.191311Z"
    }
   },
   "outputs": [
    {
     "data": {
      "image/png": "[encoded data removed]",
      "text/plain": [
       "<Figure size 432x648 with 2 Axes>"
      ]
     },
     "metadata": {
      "image/png": {
       "height": 216,
       "width": 424
      },
      "needs_background": "light"
     },
     "output_type": "display_data"
    }
   ],
   "source": [
    "model.eval()\n",
    "data_iter = iter(test_loader)\n",
    "images, labels = next(data_iter)\n",
    "img = images[0]\n",
    "img = img.view(1, 784)\n",
    "\n",
    "with torch.no_grad():\n",
    "    output = model.forward(img)\n",
    "    \n",
    "ps = torch.exp(output)\n",
    "\n",
    "helper.view_classify(img.view(1, 28, 28), ps, version=\"Fashion\")"
   ]
  },
  {
   "cell_type": "code",
   "execution_count": null,
   "metadata": {},
   "outputs": [],
   "source": []
  }
 ],
 "metadata": {
  "kernelspec": {
   "display_name": "Python 3",
   "language": "python",
   "name": "python3"
  },
  "language_info": {
   "codemirror_mode": {
    "name": "ipython",
    "version": 3
   },
   "file_extension": ".py",
   "mimetype": "text/x-python",
   "name": "python",
   "nbconvert_exporter": "python",
   "pygments_lexer": "ipython3",
   "version": "3.7.7"
  },
  "toc": {
   "base_numbering": 1,
   "nav_menu": {},
   "number_sections": false,
   "sideBar": true,
   "skip_h1_title": false,
   "title_cell": "Table of Contents",
   "title_sidebar": "Contents",
   "toc_cell": false,
   "toc_position": {},
   "toc_section_display": true,
   "toc_window_display": false
  },
  "varInspector": {
   "cols": {
    "lenName": 16,
    "lenType": 16,
    "lenVar": 40
   },
   "kernels_config": {
    "python": {
     "delete_cmd_postfix": "",
     "delete_cmd_prefix": "del ",
     "library": "var_list.py",
     "varRefreshCmd": "print(var_dic_list())"
    },
    "r": {
     "delete_cmd_postfix": ") ",
     "delete_cmd_prefix": "rm(",
     "library": "var_list.r",
     "varRefreshCmd": "cat(var_dic_list()) "
    }
   },
   "types_to_exclude": [
    "module",
    "function",
    "builtin_function_or_method",
    "instance",
    "_Feature"
   ],
   "window_display": false
  }
 },
 "nbformat": 4,
 "nbformat_minor": 4
}

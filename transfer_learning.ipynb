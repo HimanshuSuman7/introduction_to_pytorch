{
 "cells": [
  {
   "cell_type": "code",
   "execution_count": 1,
   "metadata": {
    "ExecuteTime": {
     "end_time": "2020-05-19T11:22:49.444920Z",
     "start_time": "2020-05-19T11:22:48.568071Z"
    }
   },
   "outputs": [],
   "source": [
    "import torch\n",
    "import torch.nn.functional as F\n",
    "from torch import nn, optim\n",
    "from torchvision import datasets, transforms, models\n",
    "from collections import OrderedDict\n",
    "import time\n",
    "\n",
    "import helper\n",
    "import matplotlib.pyplot as plt"
   ]
  },
  {
   "cell_type": "code",
   "execution_count": 2,
   "metadata": {
    "ExecuteTime": {
     "end_time": "2020-05-19T11:22:49.456910Z",
     "start_time": "2020-05-19T11:22:49.445910Z"
    }
   },
   "outputs": [],
   "source": [
    "%matplotlib inline\n",
    "%config InlineBackend.figure_format = \"retina\""
   ]
  },
  {
   "cell_type": "markdown",
   "metadata": {},
   "source": [
    "### Loading Data"
   ]
  },
  {
   "cell_type": "code",
   "execution_count": 3,
   "metadata": {
    "ExecuteTime": {
     "end_time": "2020-05-19T11:22:49.482910Z",
     "start_time": "2020-05-19T11:22:49.458911Z"
    }
   },
   "outputs": [],
   "source": [
    "train_transform = transforms.Compose([transforms.RandomRotation(30),\n",
    "                                      transforms.RandomResizedCrop(224),\n",
    "                                      transforms.RandomHorizontalFlip(),\n",
    "                                      transforms.ToTensor(),\n",
    "                                      transforms.Normalize([0.485, 0.456, 0.406],\n",
    "                                                           [0.229, 0.224, 0.225])])\n",
    "\n",
    "test_transform = transforms.Compose([transforms.Resize(225),\n",
    "                                     transforms.CenterCrop(224),\n",
    "                                     transforms.ToTensor(),\n",
    "                                     transforms.Normalize([0.485, 0.456, 0.406],\n",
    "                                                          [0.229, 0.224, 0.225])])"
   ]
  },
  {
   "cell_type": "code",
   "execution_count": 4,
   "metadata": {
    "ExecuteTime": {
     "end_time": "2020-05-19T11:22:49.682411Z",
     "start_time": "2020-05-19T11:22:49.483909Z"
    }
   },
   "outputs": [],
   "source": [
    "train_data = datasets.ImageFolder(\"../Data/Cat_Dog_data/train/\", transform=train_transform)\n",
    "test_data = datasets.ImageFolder(\"../Data/Cat_Dog_data/test/\", transform=test_transform)"
   ]
  },
  {
   "cell_type": "code",
   "execution_count": 5,
   "metadata": {
    "ExecuteTime": {
     "end_time": "2020-05-19T11:22:49.687304Z",
     "start_time": "2020-05-19T11:22:49.684300Z"
    }
   },
   "outputs": [],
   "source": [
    "train_loader = torch.utils.data.DataLoader(train_data, batch_size=64, shuffle=True)\n",
    "test_loader = torch.utils.data.DataLoader(test_data, batch_size=64)"
   ]
  },
  {
   "cell_type": "markdown",
   "metadata": {},
   "source": [
    "### Attempt 1"
   ]
  },
  {
   "cell_type": "code",
   "execution_count": 6,
   "metadata": {
    "ExecuteTime": {
     "end_time": "2020-05-19T11:22:50.004068Z",
     "start_time": "2020-05-19T11:22:49.689301Z"
    }
   },
   "outputs": [],
   "source": [
    "model = models.densenet121(pretrained=True)"
   ]
  },
  {
   "cell_type": "code",
   "execution_count": 7,
   "metadata": {
    "ExecuteTime": {
     "end_time": "2020-05-19T11:22:50.012069Z",
     "start_time": "2020-05-19T11:22:50.006065Z"
    }
   },
   "outputs": [],
   "source": [
    "# freeze parameters\n",
    "for param in model.parameters():\n",
    "    param.requires_grad = False"
   ]
  },
  {
   "cell_type": "code",
   "execution_count": 8,
   "metadata": {
    "ExecuteTime": {
     "end_time": "2020-05-19T11:22:50.080418Z",
     "start_time": "2020-05-19T11:22:50.016067Z"
    }
   },
   "outputs": [],
   "source": [
    "classifier = nn.Sequential(OrderedDict([\n",
    "    (\"fc1\", nn.Linear(1024, 500)),\n",
    "    (\"relu\", nn.ReLU()),\n",
    "    (\"fc2\", nn.Linear(500, 2)),\n",
    "    (\"output\", nn.LogSoftmax(dim=1))\n",
    "]))\n",
    "\n",
    "model.classifier = classifier"
   ]
  },
  {
   "cell_type": "code",
   "execution_count": 9,
   "metadata": {
    "ExecuteTime": {
     "end_time": "2020-05-19T11:22:50.322785Z",
     "start_time": "2020-05-19T11:22:50.082397Z"
    }
   },
   "outputs": [
    {
     "name": "stdout",
     "output_type": "stream",
     "text": [
      "USE_GPU = True\n",
      "current_device=0\n"
     ]
    }
   ],
   "source": [
    "USE_GPU = torch.cuda.is_available()\n",
    "print(\"USE_GPU = {}\".format(USE_GPU))\n",
    "if USE_GPU:\n",
    "    print('current_device={}'.format(torch.cuda.current_device()))"
   ]
  },
  {
   "cell_type": "code",
   "execution_count": 10,
   "metadata": {
    "ExecuteTime": {
     "end_time": "2020-05-19T11:23:04.212817Z",
     "start_time": "2020-05-19T11:22:50.324757Z"
    }
   },
   "outputs": [
    {
     "name": "stdout",
     "output_type": "stream",
     "text": [
      "Device : cuda\n",
      "\n",
      "Total Time : 0.06250715255737305\n",
      "Time per batch : 0.020835717519124348 seconds\n"
     ]
    }
   ],
   "source": [
    "device = \"cuda\"\n",
    "criterion = nn.NLLLoss()\n",
    "optimizer = optim.Adam(model.classifier.parameters(), lr=0.001)\n",
    "\n",
    "model.to(device)\n",
    "\n",
    "for index, (inputs, labels) in enumerate(train_loader):\n",
    "    inputs, labels = inputs.to(device), labels.to(device)\n",
    "    \n",
    "    start_time = time.time()\n",
    "    outputs = model.forward(inputs)\n",
    "    loss = criterion(outputs, labels)\n",
    "    loss.backward()\n",
    "    optimizer.step()\n",
    "    \n",
    "    if index == 3:\n",
    "        break\n",
    "    \n",
    "end_time = time.time()\n",
    "\n",
    "print(\"Device : {}\\n\".format(device))\n",
    "print(\"Total Time : {}\".format(end_time - start_time))\n",
    "print(\"Time per batch : {} seconds\".format((end_time - start_time) / 3))"
   ]
  },
  {
   "cell_type": "markdown",
   "metadata": {},
   "source": [
    "### Attempt 2"
   ]
  },
  {
   "cell_type": "code",
   "execution_count": 11,
   "metadata": {
    "ExecuteTime": {
     "end_time": "2020-05-19T11:23:04.218820Z",
     "start_time": "2020-05-19T11:23:04.214815Z"
    }
   },
   "outputs": [
    {
     "name": "stdout",
     "output_type": "stream",
     "text": [
      "Using : cuda\n"
     ]
    }
   ],
   "source": [
    "device = torch.device(\"cuda\" if torch.cuda.is_available() else \"cpu\")\n",
    "print(\"Using : {}\".format(device))"
   ]
  },
  {
   "cell_type": "code",
   "execution_count": 12,
   "metadata": {
    "ExecuteTime": {
     "end_time": "2020-05-19T11:23:04.520992Z",
     "start_time": "2020-05-19T11:23:04.220821Z"
    }
   },
   "outputs": [],
   "source": [
    "model = models.densenet121(pretrained=True)\n",
    "\n",
    "for param in model.parameters():\n",
    "    param.requires_grad = False"
   ]
  },
  {
   "cell_type": "code",
   "execution_count": 13,
   "metadata": {
    "ExecuteTime": {
     "end_time": "2020-05-19T11:23:06.806926Z",
     "start_time": "2020-05-19T11:23:04.520992Z"
    }
   },
   "outputs": [],
   "source": [
    "model.classifier = nn.Sequential(nn.Linear(1024, 256),\n",
    "                                 nn.ReLU(),\n",
    "                                 nn.Dropout(0.2),\n",
    "                                 nn.Linear(256, 2),\n",
    "                                 nn.LogSoftmax(dim=1))\n",
    "\n",
    "criterion = nn.NLLLoss()\n",
    "optimizer = optim.Adam(model.classifier.parameters(), lr=0.003)\n",
    "model.to(device);"
   ]
  },
  {
   "cell_type": "code",
   "execution_count": null,
   "metadata": {
    "ExecuteTime": {
     "start_time": "2020-05-19T11:22:48.589Z"
    }
   },
   "outputs": [
    {
     "name": "stdout",
     "output_type": "stream",
     "text": [
      "Epoch 1/1.. Train loss: 0.954.. Test loss: 0.509.. Test accuracy: 0.689\n",
      "Epoch 1/1.. Train loss: 0.554.. Test loss: 0.172.. Test accuracy: 0.936\n",
      "Epoch 1/1.. Train loss: 0.322.. Test loss: 0.159.. Test accuracy: 0.948\n",
      "Epoch 1/1.. Train loss: 0.381.. Test loss: 0.131.. Test accuracy: 0.952\n",
      "Epoch 1/1.. Train loss: 0.223.. Test loss: 0.114.. Test accuracy: 0.959\n",
      "Epoch 1/1.. Train loss: 0.227.. Test loss: 0.072.. Test accuracy: 0.976\n",
      "Epoch 1/1.. Train loss: 0.199.. Test loss: 0.061.. Test accuracy: 0.978\n",
      "Epoch 1/1.. Train loss: 0.220.. Test loss: 0.072.. Test accuracy: 0.973\n",
      "Epoch 1/1.. Train loss: 0.177.. Test loss: 0.068.. Test accuracy: 0.975\n",
      "Epoch 1/1.. Train loss: 0.203.. Test loss: 0.053.. Test accuracy: 0.981\n",
      "Epoch 1/1.. Train loss: 0.174.. Test loss: 0.053.. Test accuracy: 0.980\n",
      "Epoch 1/1.. Train loss: 0.168.. Test loss: 0.054.. Test accuracy: 0.979\n",
      "Epoch 1/1.. Train loss: 0.198.. Test loss: 0.072.. Test accuracy: 0.974\n",
      "Epoch 1/1.. Train loss: 0.161.. Test loss: 0.050.. Test accuracy: 0.982\n",
      "Epoch 1/1.. Train loss: 0.173.. Test loss: 0.050.. Test accuracy: 0.982\n",
      "Epoch 1/1.. Train loss: 0.194.. Test loss: 0.051.. Test accuracy: 0.981\n",
      "Epoch 1/1.. Train loss: 0.164.. Test loss: 0.052.. Test accuracy: 0.980\n",
      "Epoch 1/1.. Train loss: 0.096.. Test loss: 0.051.. Test accuracy: 0.980\n",
      "Epoch 1/1.. Train loss: 0.159.. Test loss: 0.067.. Test accuracy: 0.972\n",
      "Epoch 1/1.. Train loss: 0.143.. Test loss: 0.046.. Test accuracy: 0.982\n",
      "Epoch 1/1.. Train loss: 0.149.. Test loss: 0.045.. Test accuracy: 0.982\n",
      "Epoch 1/1.. Train loss: 0.162.. Test loss: 0.044.. Test accuracy: 0.982\n",
      "Epoch 1/1.. Train loss: 0.138.. Test loss: 0.044.. Test accuracy: 0.983\n",
      "Epoch 1/1.. Train loss: 0.139.. Test loss: 0.047.. Test accuracy: 0.983\n",
      "Epoch 1/1.. Train loss: 0.176.. Test loss: 0.058.. Test accuracy: 0.977\n",
      "Epoch 1/1.. Train loss: 0.161.. Test loss: 0.061.. Test accuracy: 0.979\n",
      "Epoch 1/1.. Train loss: 0.149.. Test loss: 0.042.. Test accuracy: 0.985\n",
      "Epoch 1/1.. Train loss: 0.126.. Test loss: 0.048.. Test accuracy: 0.984\n",
      "Epoch 1/1.. Train loss: 0.152.. Test loss: 0.075.. Test accuracy: 0.972\n",
      "Epoch 1/1.. Train loss: 0.223.. Test loss: 0.060.. Test accuracy: 0.980\n",
      "Epoch 1/1.. Train loss: 0.203.. Test loss: 0.063.. Test accuracy: 0.976\n",
      "Epoch 1/1.. Train loss: 0.153.. Test loss: 0.040.. Test accuracy: 0.984\n",
      "Epoch 1/1.. Train loss: 0.166.. Test loss: 0.042.. Test accuracy: 0.983\n",
      "Epoch 1/1.. Train loss: 0.204.. Test loss: 0.040.. Test accuracy: 0.984\n",
      "Epoch 1/1.. Train loss: 0.223.. Test loss: 0.044.. Test accuracy: 0.984\n",
      "Epoch 1/1.. Train loss: 0.149.. Test loss: 0.082.. Test accuracy: 0.970\n",
      "Epoch 1/1.. Train loss: 0.130.. Test loss: 0.044.. Test accuracy: 0.985\n",
      "Epoch 1/1.. Train loss: 0.186.. Test loss: 0.041.. Test accuracy: 0.983\n",
      "Epoch 1/1.. Train loss: 0.104.. Test loss: 0.042.. Test accuracy: 0.982\n",
      "Epoch 1/1.. Train loss: 0.135.. Test loss: 0.044.. Test accuracy: 0.982\n",
      "Epoch 1/1.. Train loss: 0.171.. Test loss: 0.041.. Test accuracy: 0.985\n",
      "Epoch 1/1.. Train loss: 0.103.. Test loss: 0.042.. Test accuracy: 0.984\n",
      "Epoch 1/1.. Train loss: 0.116.. Test loss: 0.040.. Test accuracy: 0.984\n",
      "Epoch 1/1.. Train loss: 0.221.. Test loss: 0.040.. Test accuracy: 0.984\n",
      "Epoch 1/1.. Train loss: 0.206.. Test loss: 0.044.. Test accuracy: 0.986\n",
      "Epoch 1/1.. Train loss: 0.139.. Test loss: 0.044.. Test accuracy: 0.986\n",
      "Epoch 1/1.. Train loss: 0.195.. Test loss: 0.040.. Test accuracy: 0.984\n",
      "Epoch 1/1.. Train loss: 0.159.. Test loss: 0.040.. Test accuracy: 0.986\n",
      "Epoch 1/1.. Train loss: 0.211.. Test loss: 0.050.. Test accuracy: 0.980\n",
      "Epoch 1/1.. Train loss: 0.224.. Test loss: 0.046.. Test accuracy: 0.986\n",
      "Epoch 1/1.. Train loss: 0.199.. Test loss: 0.055.. Test accuracy: 0.979\n",
      "Epoch 1/1.. Train loss: 0.160.. Test loss: 0.042.. Test accuracy: 0.984\n",
      "Epoch 1/1.. Train loss: 0.111.. Test loss: 0.042.. Test accuracy: 0.986\n",
      "Epoch 1/1.. Train loss: 0.128.. Test loss: 0.039.. Test accuracy: 0.982\n",
      "Epoch 1/1.. Train loss: 0.161.. Test loss: 0.039.. Test accuracy: 0.985\n"
     ]
    }
   ],
   "source": [
    "epochs = 1\n",
    "steps = 0\n",
    "running_loss = 0\n",
    "print_every = 5\n",
    "\n",
    "for epoch in range(epochs):\n",
    "    for inputs, labels in train_loader:\n",
    "        steps += 1\n",
    "        inputs, labels = inputs.to(device), labels.to(device)\n",
    "        \n",
    "        optimizer.zero_grad()\n",
    "        \n",
    "        logps = model.forward(inputs)\n",
    "        loss = criterion(logps, labels)\n",
    "        loss.backward()\n",
    "        optimizer.step()\n",
    "\n",
    "        running_loss += loss.item()\n",
    "        \n",
    "        if steps % print_every == 0:\n",
    "            test_loss = 0\n",
    "            accuracy = 0\n",
    "            model.eval()\n",
    "            with torch.no_grad():\n",
    "                for inputs, labels in test_loader:\n",
    "                    inputs, labels = inputs.to(device), labels.to(device)\n",
    "                    logps = model.forward(inputs)\n",
    "                    batch_loss = criterion(logps, labels)\n",
    "                    \n",
    "                    test_loss += batch_loss.item()\n",
    "                    \n",
    "                    # Calculate accuracy\n",
    "                    ps = torch.exp(logps)\n",
    "                    top_p, top_class = ps.topk(1, dim=1)\n",
    "                    equals = top_class == labels.view(*top_class.shape)\n",
    "                    accuracy += torch.mean(equals.type(torch.FloatTensor)).item()\n",
    "                    \n",
    "            print(f\"Epoch {epoch+1}/{epochs}.. \"\n",
    "                  f\"Train loss: {running_loss/print_every:.3f}.. \"\n",
    "                  f\"Test loss: {test_loss/len(test_loader):.3f}.. \"\n",
    "                  f\"Test accuracy: {accuracy/len(test_loader):.3f}\")\n",
    "            running_loss = 0\n",
    "            model.train()"
   ]
  },
  {
   "cell_type": "code",
   "execution_count": null,
   "metadata": {},
   "outputs": [],
   "source": []
  }
 ],
 "metadata": {
  "kernelspec": {
   "display_name": "Python 3",
   "language": "python",
   "name": "python3"
  },
  "language_info": {
   "codemirror_mode": {
    "name": "ipython",
    "version": 3
   },
   "file_extension": ".py",
   "mimetype": "text/x-python",
   "name": "python",
   "nbconvert_exporter": "python",
   "pygments_lexer": "ipython3",
   "version": "3.7.7"
  },
  "toc": {
   "base_numbering": 1,
   "nav_menu": {},
   "number_sections": false,
   "sideBar": true,
   "skip_h1_title": false,
   "title_cell": "Table of Contents",
   "title_sidebar": "Contents",
   "toc_cell": false,
   "toc_position": {},
   "toc_section_display": true,
   "toc_window_display": false
  },
  "varInspector": {
   "cols": {
    "lenName": 16,
    "lenType": 16,
    "lenVar": 40
   },
   "kernels_config": {
    "python": {
     "delete_cmd_postfix": "",
     "delete_cmd_prefix": "del ",
     "library": "var_list.py",
     "varRefreshCmd": "print(var_dic_list())"
    },
    "r": {
     "delete_cmd_postfix": ") ",
     "delete_cmd_prefix": "rm(",
     "library": "var_list.r",
     "varRefreshCmd": "cat(var_dic_list()) "
    }
   },
   "types_to_exclude": [
    "module",
    "function",
    "builtin_function_or_method",
    "instance",
    "_Feature"
   ],
   "window_display": false
  }
 },
 "nbformat": 4,
 "nbformat_minor": 4
}

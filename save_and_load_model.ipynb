{
 "cells": [
  {
   "cell_type": "code",
   "execution_count": 1,
   "metadata": {
    "ExecuteTime": {
     "end_time": "2020-05-19T10:03:02.925368Z",
     "start_time": "2020-05-19T10:03:02.165690Z"
    }
   },
   "outputs": [],
   "source": [
    "import helper\n",
    "import fc_model\n",
    "import matplotlib.pyplot as plt\n",
    "\n",
    "import torch\n",
    "from torch import nn, optim\n",
    "import torch.nn.functional as F\n",
    "from torchvision import datasets, transforms"
   ]
  },
  {
   "cell_type": "code",
   "execution_count": 2,
   "metadata": {
    "ExecuteTime": {
     "end_time": "2020-05-19T10:03:03.965676Z",
     "start_time": "2020-05-19T10:03:03.953676Z"
    }
   },
   "outputs": [],
   "source": [
    "%matplotlib inline\n",
    "%config InlineBackend.figure_format = \"retina\""
   ]
  },
  {
   "cell_type": "markdown",
   "metadata": {},
   "source": [
    "### Load Data"
   ]
  },
  {
   "cell_type": "code",
   "execution_count": 3,
   "metadata": {
    "ExecuteTime": {
     "end_time": "2020-05-19T10:03:04.860125Z",
     "start_time": "2020-05-19T10:03:04.856159Z"
    }
   },
   "outputs": [],
   "source": [
    "transform = transforms.Compose([transforms.ToTensor(), \n",
    "                                transforms.Normalize((0.5,), (0.5,))])"
   ]
  },
  {
   "cell_type": "code",
   "execution_count": 4,
   "metadata": {
    "ExecuteTime": {
     "end_time": "2020-05-19T10:03:05.364288Z",
     "start_time": "2020-05-19T10:03:05.333253Z"
    }
   },
   "outputs": [],
   "source": [
    "train_set = datasets.FashionMNIST(\"../Data/\", download=False, train=True, transform=transform)\n",
    "train_loader = torch.utils.data.DataLoader(train_set, batch_size=64, shuffle=True)"
   ]
  },
  {
   "cell_type": "code",
   "execution_count": 5,
   "metadata": {
    "ExecuteTime": {
     "end_time": "2020-05-19T10:03:06.048174Z",
     "start_time": "2020-05-19T10:03:06.038175Z"
    }
   },
   "outputs": [],
   "source": [
    "test_set = datasets.FashionMNIST(\"../Data/\", download=False, train=False, transform=transform)\n",
    "test_loader = torch.utils.data.DataLoader(test_set, batch_size=64, shuffle=True)"
   ]
  },
  {
   "cell_type": "code",
   "execution_count": 6,
   "metadata": {
    "ExecuteTime": {
     "end_time": "2020-05-19T10:03:50.504079Z",
     "start_time": "2020-05-19T10:03:50.313042Z"
    }
   },
   "outputs": [
    {
     "data": {
      "text/plain": [
       "<matplotlib.axes._subplots.AxesSubplot at 0x24b06ba7488>"
      ]
     },
     "execution_count": 6,
     "metadata": {},
     "output_type": "execute_result"
    },
    {
     "data": {
      "image/png": "[encoded data removed]",
      "text/plain": [
       "<Figure size 432x288 with 1 Axes>"
      ]
     },
     "metadata": {
      "image/png": {
       "height": 231,
       "width": 231
      },
      "needs_background": "light"
     },
     "output_type": "display_data"
    }
   ],
   "source": [
    "image, label = next(iter(train_loader))\n",
    "helper.imshow(image[0, :])"
   ]
  },
  {
   "cell_type": "markdown",
   "metadata": {},
   "source": [
    "### Train Network"
   ]
  },
  {
   "cell_type": "code",
   "execution_count": 7,
   "metadata": {
    "ExecuteTime": {
     "end_time": "2020-05-19T10:05:38.779992Z",
     "start_time": "2020-05-19T10:05:38.772994Z"
    }
   },
   "outputs": [],
   "source": [
    "model = fc_model.Network(784, 10, [512, 256, 128])\n",
    "criterion = nn.NLLLoss()\n",
    "optimizer = optim.Adam(model.parameters(), lr=0.001)"
   ]
  },
  {
   "cell_type": "code",
   "execution_count": 9,
   "metadata": {
    "ExecuteTime": {
     "end_time": "2020-05-19T10:11:49.213124Z",
     "start_time": "2020-05-19T10:08:18.572586Z"
    },
    "scrolled": true
   },
   "outputs": [
    {
     "name": "stdout",
     "output_type": "stream",
     "text": [
      "Epoch: 1/2..  Training Loss: 0.581..  Test Loss: 0.475..  Test Accuracy: 0.826\n",
      "Epoch: 1/2..  Training Loss: 0.530..  Test Loss: 0.484..  Test Accuracy: 0.822\n",
      "Epoch: 1/2..  Training Loss: 0.547..  Test Loss: 0.474..  Test Accuracy: 0.822\n",
      "Epoch: 1/2..  Training Loss: 0.552..  Test Loss: 0.469..  Test Accuracy: 0.829\n",
      "Epoch: 1/2..  Training Loss: 0.585..  Test Loss: 0.489..  Test Accuracy: 0.820\n",
      "Epoch: 1/2..  Training Loss: 0.586..  Test Loss: 0.495..  Test Accuracy: 0.828\n",
      "Epoch: 1/2..  Training Loss: 0.547..  Test Loss: 0.475..  Test Accuracy: 0.829\n",
      "Epoch: 1/2..  Training Loss: 0.545..  Test Loss: 0.469..  Test Accuracy: 0.831\n",
      "Epoch: 1/2..  Training Loss: 0.515..  Test Loss: 0.474..  Test Accuracy: 0.827\n",
      "Epoch: 1/2..  Training Loss: 0.546..  Test Loss: 0.477..  Test Accuracy: 0.819\n",
      "Epoch: 1/2..  Training Loss: 0.520..  Test Loss: 0.452..  Test Accuracy: 0.836\n",
      "Epoch: 1/2..  Training Loss: 0.517..  Test Loss: 0.463..  Test Accuracy: 0.829\n",
      "Epoch: 1/2..  Training Loss: 0.543..  Test Loss: 0.448..  Test Accuracy: 0.835\n",
      "Epoch: 1/2..  Training Loss: 0.569..  Test Loss: 0.479..  Test Accuracy: 0.826\n",
      "Epoch: 1/2..  Training Loss: 0.532..  Test Loss: 0.488..  Test Accuracy: 0.816\n",
      "Epoch: 1/2..  Training Loss: 0.519..  Test Loss: 0.452..  Test Accuracy: 0.833\n",
      "Epoch: 1/2..  Training Loss: 0.503..  Test Loss: 0.458..  Test Accuracy: 0.835\n",
      "Epoch: 1/2..  Training Loss: 0.529..  Test Loss: 0.462..  Test Accuracy: 0.834\n",
      "Epoch: 1/2..  Training Loss: 0.540..  Test Loss: 0.468..  Test Accuracy: 0.826\n",
      "Epoch: 1/2..  Training Loss: 0.500..  Test Loss: 0.448..  Test Accuracy: 0.838\n",
      "Epoch: 1/2..  Training Loss: 0.513..  Test Loss: 0.449..  Test Accuracy: 0.834\n",
      "Epoch: 1/2..  Training Loss: 0.529..  Test Loss: 0.438..  Test Accuracy: 0.841\n",
      "Epoch: 1/2..  Training Loss: 0.495..  Test Loss: 0.436..  Test Accuracy: 0.840\n",
      "Epoch: 2/2..  Training Loss: 0.507..  Test Loss: 0.437..  Test Accuracy: 0.840\n",
      "Epoch: 2/2..  Training Loss: 0.545..  Test Loss: 0.464..  Test Accuracy: 0.829\n",
      "Epoch: 2/2..  Training Loss: 0.488..  Test Loss: 0.446..  Test Accuracy: 0.836\n",
      "Epoch: 2/2..  Training Loss: 0.479..  Test Loss: 0.445..  Test Accuracy: 0.836\n",
      "Epoch: 2/2..  Training Loss: 0.520..  Test Loss: 0.447..  Test Accuracy: 0.842\n",
      "Epoch: 2/2..  Training Loss: 0.537..  Test Loss: 0.450..  Test Accuracy: 0.836\n",
      "Epoch: 2/2..  Training Loss: 0.511..  Test Loss: 0.446..  Test Accuracy: 0.838\n",
      "Epoch: 2/2..  Training Loss: 0.461..  Test Loss: 0.435..  Test Accuracy: 0.843\n",
      "Epoch: 2/2..  Training Loss: 0.463..  Test Loss: 0.434..  Test Accuracy: 0.842\n",
      "Epoch: 2/2..  Training Loss: 0.478..  Test Loss: 0.436..  Test Accuracy: 0.840\n",
      "Epoch: 2/2..  Training Loss: 0.500..  Test Loss: 0.433..  Test Accuracy: 0.840\n",
      "Epoch: 2/2..  Training Loss: 0.538..  Test Loss: 0.437..  Test Accuracy: 0.844\n",
      "Epoch: 2/2..  Training Loss: 0.490..  Test Loss: 0.440..  Test Accuracy: 0.840\n",
      "Epoch: 2/2..  Training Loss: 0.501..  Test Loss: 0.432..  Test Accuracy: 0.842\n",
      "Epoch: 2/2..  Training Loss: 0.491..  Test Loss: 0.433..  Test Accuracy: 0.845\n",
      "Epoch: 2/2..  Training Loss: 0.553..  Test Loss: 0.446..  Test Accuracy: 0.837\n",
      "Epoch: 2/2..  Training Loss: 0.510..  Test Loss: 0.436..  Test Accuracy: 0.838\n",
      "Epoch: 2/2..  Training Loss: 0.466..  Test Loss: 0.429..  Test Accuracy: 0.843\n",
      "Epoch: 2/2..  Training Loss: 0.493..  Test Loss: 0.430..  Test Accuracy: 0.845\n",
      "Epoch: 2/2..  Training Loss: 0.491..  Test Loss: 0.417..  Test Accuracy: 0.850\n",
      "Epoch: 2/2..  Training Loss: 0.479..  Test Loss: 0.425..  Test Accuracy: 0.844\n",
      "Epoch: 2/2..  Training Loss: 0.471..  Test Loss: 0.418..  Test Accuracy: 0.846\n",
      "Epoch: 2/2..  Training Loss: 0.496..  Test Loss: 0.427..  Test Accuracy: 0.845\n"
     ]
    }
   ],
   "source": [
    "fc_model.train(model, train_loader, test_loader, criterion, optimizer, epochs=2)"
   ]
  },
  {
   "cell_type": "markdown",
   "metadata": {},
   "source": [
    "### Saving and Loading Networks"
   ]
  },
  {
   "cell_type": "code",
   "execution_count": 14,
   "metadata": {
    "ExecuteTime": {
     "end_time": "2020-05-19T10:13:55.307438Z",
     "start_time": "2020-05-19T10:13:55.302474Z"
    }
   },
   "outputs": [
    {
     "data": {
      "text/plain": [
       "Network(\n",
       "  (hidden_layers): ModuleList(\n",
       "    (0): Linear(in_features=784, out_features=512, bias=True)\n",
       "    (1): Linear(in_features=512, out_features=256, bias=True)\n",
       "    (2): Linear(in_features=256, out_features=128, bias=True)\n",
       "  )\n",
       "  (output): Linear(in_features=128, out_features=10, bias=True)\n",
       "  (dropout): Dropout(p=0.5, inplace=False)\n",
       ")"
      ]
     },
     "execution_count": 14,
     "metadata": {},
     "output_type": "execute_result"
    }
   ],
   "source": [
    "model"
   ]
  },
  {
   "cell_type": "code",
   "execution_count": 16,
   "metadata": {
    "ExecuteTime": {
     "end_time": "2020-05-19T10:14:13.403368Z",
     "start_time": "2020-05-19T10:14:13.399362Z"
    }
   },
   "outputs": [
    {
     "data": {
      "text/plain": [
       "odict_keys(['hidden_layers.0.weight', 'hidden_layers.0.bias', 'hidden_layers.1.weight', 'hidden_layers.1.bias', 'hidden_layers.2.weight', 'hidden_layers.2.bias', 'output.weight', 'output.bias'])"
      ]
     },
     "execution_count": 16,
     "metadata": {},
     "output_type": "execute_result"
    }
   ],
   "source": [
    "model.state_dict().keys()"
   ]
  },
  {
   "cell_type": "code",
   "execution_count": 18,
   "metadata": {
    "ExecuteTime": {
     "end_time": "2020-05-19T10:15:23.323586Z",
     "start_time": "2020-05-19T10:15:23.317553Z"
    }
   },
   "outputs": [],
   "source": [
    "# save as checkpoint\n",
    "torch.save(model.state_dict(), \"checkpoint.pth\")"
   ]
  },
  {
   "cell_type": "code",
   "execution_count": 19,
   "metadata": {
    "ExecuteTime": {
     "end_time": "2020-05-19T10:16:05.411725Z",
     "start_time": "2020-05-19T10:16:05.402730Z"
    }
   },
   "outputs": [
    {
     "data": {
      "text/plain": [
       "odict_keys(['hidden_layers.0.weight', 'hidden_layers.0.bias', 'hidden_layers.1.weight', 'hidden_layers.1.bias', 'hidden_layers.2.weight', 'hidden_layers.2.bias', 'output.weight', 'output.bias'])"
      ]
     },
     "execution_count": 19,
     "metadata": {},
     "output_type": "execute_result"
    }
   ],
   "source": [
    "# load the checkpoint\n",
    "state_dict = torch.load(\"checkpoint.pth\")\n",
    "state_dict.keys()"
   ]
  },
  {
   "cell_type": "code",
   "execution_count": 21,
   "metadata": {
    "ExecuteTime": {
     "end_time": "2020-05-19T10:18:47.723089Z",
     "start_time": "2020-05-19T10:18:47.716089Z"
    }
   },
   "outputs": [
    {
     "data": {
      "text/plain": [
       "<All keys matched successfully>"
      ]
     },
     "execution_count": 21,
     "metadata": {},
     "output_type": "execute_result"
    }
   ],
   "source": [
    "# load state_dict into the network\n",
    "model.load_state_dict(state_dict)"
   ]
  },
  {
   "cell_type": "code",
   "execution_count": null,
   "metadata": {},
   "outputs": [],
   "source": []
  }
 ],
 "metadata": {
  "kernelspec": {
   "display_name": "Python 3",
   "language": "python",
   "name": "python3"
  },
  "language_info": {
   "codemirror_mode": {
    "name": "ipython",
    "version": 3
   },
   "file_extension": ".py",
   "mimetype": "text/x-python",
   "name": "python",
   "nbconvert_exporter": "python",
   "pygments_lexer": "ipython3",
   "version": "3.7.7"
  },
  "toc": {
   "base_numbering": 1,
   "nav_menu": {},
   "number_sections": false,
   "sideBar": true,
   "skip_h1_title": false,
   "title_cell": "Table of Contents",
   "title_sidebar": "Contents",
   "toc_cell": false,
   "toc_position": {},
   "toc_section_display": true,
   "toc_window_display": false
  },
  "varInspector": {
   "cols": {
    "lenName": 16,
    "lenType": 16,
    "lenVar": 40
   },
   "kernels_config": {
    "python": {
     "delete_cmd_postfix": "",
     "delete_cmd_prefix": "del ",
     "library": "var_list.py",
     "varRefreshCmd": "print(var_dic_list())"
    },
    "r": {
     "delete_cmd_postfix": ") ",
     "delete_cmd_prefix": "rm(",
     "library": "var_list.r",
     "varRefreshCmd": "cat(var_dic_list()) "
    }
   },
   "types_to_exclude": [
    "module",
    "function",
    "builtin_function_or_method",
    "instance",
    "_Feature"
   ],
   "window_display": false
  }
 },
 "nbformat": 4,
 "nbformat_minor": 4
}

{
 "cells": [
  {
   "cell_type": "code",
   "execution_count": 1,
   "metadata": {
    "ExecuteTime": {
     "end_time": "2020-05-19T07:19:00.755158Z",
     "start_time": "2020-05-19T07:19:00.280036Z"
    }
   },
   "outputs": [],
   "source": [
    "import torch\n",
    "import numpy as np"
   ]
  },
  {
   "cell_type": "code",
   "execution_count": 2,
   "metadata": {
    "ExecuteTime": {
     "end_time": "2020-05-19T07:19:00.761071Z",
     "start_time": "2020-05-19T07:19:00.756036Z"
    }
   },
   "outputs": [],
   "source": [
    "def activation_func(x):\n",
    "    \"\"\"sigmoid function\"\"\"\n",
    "    return 1 / (1 + torch.exp(-x))"
   ]
  },
  {
   "cell_type": "code",
   "execution_count": 3,
   "metadata": {
    "ExecuteTime": {
     "end_time": "2020-05-19T07:19:00.799072Z",
     "start_time": "2020-05-19T07:19:00.763035Z"
    }
   },
   "outputs": [
    {
     "data": {
      "text/plain": [
       "<torch._C.Generator at 0x2cbb1315dd0>"
      ]
     },
     "execution_count": 3,
     "metadata": {},
     "output_type": "execute_result"
    }
   ],
   "source": [
    "torch.manual_seed(7)"
   ]
  },
  {
   "cell_type": "code",
   "execution_count": 4,
   "metadata": {
    "ExecuteTime": {
     "end_time": "2020-05-19T07:19:00.817063Z",
     "start_time": "2020-05-19T07:19:00.801039Z"
    }
   },
   "outputs": [
    {
     "data": {
      "text/plain": [
       "tensor([[-0.1468,  0.7861,  0.9468, -1.1143,  1.6908]])"
      ]
     },
     "execution_count": 4,
     "metadata": {},
     "output_type": "execute_result"
    }
   ],
   "source": [
    "features = torch.randn((1, 5))\n",
    "features"
   ]
  },
  {
   "cell_type": "code",
   "execution_count": 5,
   "metadata": {
    "ExecuteTime": {
     "end_time": "2020-05-19T07:19:00.855036Z",
     "start_time": "2020-05-19T07:19:00.820036Z"
    }
   },
   "outputs": [
    {
     "data": {
      "text/plain": [
       "tensor([[-0.8948, -0.3556,  1.2324,  0.1382, -1.6822]])"
      ]
     },
     "execution_count": 5,
     "metadata": {},
     "output_type": "execute_result"
    }
   ],
   "source": [
    "weights = torch.randn_like(features)\n",
    "weights"
   ]
  },
  {
   "cell_type": "code",
   "execution_count": 6,
   "metadata": {
    "ExecuteTime": {
     "end_time": "2020-05-19T07:19:00.897071Z",
     "start_time": "2020-05-19T07:19:00.857072Z"
    }
   },
   "outputs": [
    {
     "data": {
      "text/plain": [
       "tensor([[0.3177]])"
      ]
     },
     "execution_count": 6,
     "metadata": {},
     "output_type": "execute_result"
    }
   ],
   "source": [
    "bias = torch.randn((1, 1))\n",
    "bias"
   ]
  },
  {
   "cell_type": "code",
   "execution_count": 7,
   "metadata": {
    "ExecuteTime": {
     "end_time": "2020-05-19T07:19:00.954501Z",
     "start_time": "2020-05-19T07:19:00.898073Z"
    }
   },
   "outputs": [
    {
     "data": {
      "text/plain": [
       "tensor(0.4325)"
      ]
     },
     "execution_count": 7,
     "metadata": {},
     "output_type": "execute_result"
    }
   ],
   "source": [
    "torch.mean(features)"
   ]
  },
  {
   "cell_type": "code",
   "execution_count": 8,
   "metadata": {
    "ExecuteTime": {
     "end_time": "2020-05-19T07:19:00.996042Z",
     "start_time": "2020-05-19T07:19:00.957472Z"
    }
   },
   "outputs": [
    {
     "data": {
      "text/plain": [
       "tensor([[0.1595]])"
      ]
     },
     "execution_count": 8,
     "metadata": {},
     "output_type": "execute_result"
    }
   ],
   "source": [
    "# output of network\n",
    "res = activation_func(torch.sum(features * weights) + bias)\n",
    "res"
   ]
  },
  {
   "cell_type": "code",
   "execution_count": 9,
   "metadata": {
    "ExecuteTime": {
     "end_time": "2020-05-19T07:19:01.032080Z",
     "start_time": "2020-05-19T07:19:00.998042Z"
    }
   },
   "outputs": [
    {
     "data": {
      "text/plain": [
       "tensor([[0.1595]])"
      ]
     },
     "execution_count": 9,
     "metadata": {},
     "output_type": "execute_result"
    }
   ],
   "source": [
    "res = activation_func(torch.mm(features, weights.view(5, 1)) + bias)\n",
    "res"
   ]
  },
  {
   "cell_type": "code",
   "execution_count": 10,
   "metadata": {
    "ExecuteTime": {
     "end_time": "2020-05-19T07:19:01.069805Z",
     "start_time": "2020-05-19T07:19:01.033047Z"
    }
   },
   "outputs": [],
   "source": [
    "# computing output in presence of hidden layer\n",
    "\n",
    "features = torch.randn((1, 3))\n",
    "\n",
    "n_input = features.shape[1] #input unit\n",
    "n_hidden = 2 #hidden units\n",
    "n_output = 1 #output units\n",
    "\n",
    "# weights for inputs to hidden layer\n",
    "w1 = torch.randn(n_input, n_hidden)\n",
    "# weights for hidden layer to output layer \n",
    "w2 = torch.randn(n_hidden, n_output)\n",
    "\n",
    "# bias terms\n",
    "b1 = torch.randn(1, n_hidden)\n",
    "b2 = torch.randn(1, n_output)"
   ]
  },
  {
   "cell_type": "code",
   "execution_count": 11,
   "metadata": {
    "ExecuteTime": {
     "end_time": "2020-05-19T07:19:01.110991Z",
     "start_time": "2020-05-19T07:19:01.070767Z"
    }
   },
   "outputs": [
    {
     "name": "stdout",
     "output_type": "stream",
     "text": [
      "Result at hidden layer :  tensor([[0.6574, 0.4924]])\n"
     ]
    }
   ],
   "source": [
    "h = activation_func(torch.mm(features, w1) + b1)\n",
    "print(\"Result at hidden layer : \", h)"
   ]
  },
  {
   "cell_type": "code",
   "execution_count": 12,
   "metadata": {
    "ExecuteTime": {
     "end_time": "2020-05-19T07:19:01.168666Z",
     "start_time": "2020-05-19T07:19:01.112026Z"
    }
   },
   "outputs": [
    {
     "name": "stdout",
     "output_type": "stream",
     "text": [
      "Result at output layer :  tensor([[0.8805]])\n"
     ]
    }
   ],
   "source": [
    "res = activation_func(torch.mm(h, w2) + b2)\n",
    "print(\"Result at output layer : \", res)"
   ]
  },
  {
   "cell_type": "code",
   "execution_count": 13,
   "metadata": {
    "ExecuteTime": {
     "end_time": "2020-05-19T07:19:01.206888Z",
     "start_time": "2020-05-19T07:19:01.169631Z"
    }
   },
   "outputs": [
    {
     "data": {
      "text/plain": [
       "array([[ 0.79017111,  0.50292648,  1.59108785],\n",
       "       [-0.04711493,  0.38264838,  1.30408859],\n",
       "       [ 0.43074395,  0.72895282,  0.04748182],\n",
       "       [ 0.41340075,  0.75376453,  0.83033652]])"
      ]
     },
     "execution_count": 13,
     "metadata": {},
     "output_type": "execute_result"
    }
   ],
   "source": [
    "# numpy to torch\n",
    "\n",
    "a = np.random.randn(4, 3)\n",
    "a"
   ]
  },
  {
   "cell_type": "code",
   "execution_count": 14,
   "metadata": {
    "ExecuteTime": {
     "end_time": "2020-05-19T07:19:01.247230Z",
     "start_time": "2020-05-19T07:19:01.209884Z"
    }
   },
   "outputs": [
    {
     "data": {
      "text/plain": [
       "tensor([[ 0.7902,  0.5029,  1.5911],\n",
       "        [-0.0471,  0.3826,  1.3041],\n",
       "        [ 0.4307,  0.7290,  0.0475],\n",
       "        [ 0.4134,  0.7538,  0.8303]], dtype=torch.float64)"
      ]
     },
     "execution_count": 14,
     "metadata": {},
     "output_type": "execute_result"
    }
   ],
   "source": [
    "b = torch.from_numpy(a)\n",
    "b"
   ]
  },
  {
   "cell_type": "code",
   "execution_count": 15,
   "metadata": {
    "ExecuteTime": {
     "end_time": "2020-05-19T07:19:01.296949Z",
     "start_time": "2020-05-19T07:19:01.250242Z"
    }
   },
   "outputs": [
    {
     "data": {
      "text/plain": [
       "array([[ 0.79017111,  0.50292648,  1.59108785],\n",
       "       [-0.04711493,  0.38264838,  1.30408859],\n",
       "       [ 0.43074395,  0.72895282,  0.04748182],\n",
       "       [ 0.41340075,  0.75376453,  0.83033652]])"
      ]
     },
     "execution_count": 15,
     "metadata": {},
     "output_type": "execute_result"
    }
   ],
   "source": [
    "b.numpy()"
   ]
  },
  {
   "cell_type": "code",
   "execution_count": 16,
   "metadata": {
    "ExecuteTime": {
     "end_time": "2020-05-19T07:19:01.350261Z",
     "start_time": "2020-05-19T07:19:01.298950Z"
    }
   },
   "outputs": [
    {
     "data": {
      "text/plain": [
       "tensor([[ 1.5803,  1.0059,  3.1822],\n",
       "        [-0.0942,  0.7653,  2.6082],\n",
       "        [ 0.8615,  1.4579,  0.0950],\n",
       "        [ 0.8268,  1.5075,  1.6607]], dtype=torch.float64)"
      ]
     },
     "execution_count": 16,
     "metadata": {},
     "output_type": "execute_result"
    }
   ],
   "source": [
    "# inplace operations\n",
    "\n",
    "b.mul_(2)"
   ]
  },
  {
   "cell_type": "code",
   "execution_count": 17,
   "metadata": {
    "ExecuteTime": {
     "end_time": "2020-05-19T07:19:01.412662Z",
     "start_time": "2020-05-19T07:19:01.351265Z"
    }
   },
   "outputs": [
    {
     "data": {
      "text/plain": [
       "array([[ 1.58034222,  1.00585296,  3.18217569],\n",
       "       [-0.09422986,  0.76529676,  2.60817718],\n",
       "       [ 0.86148789,  1.45790564,  0.09496364],\n",
       "       [ 0.8268015 ,  1.50752906,  1.66067303]])"
      ]
     },
     "execution_count": 17,
     "metadata": {},
     "output_type": "execute_result"
    }
   ],
   "source": [
    "# both types get affected\n",
    "\n",
    "a"
   ]
  },
  {
   "cell_type": "code",
   "execution_count": null,
   "metadata": {},
   "outputs": [],
   "source": []
  }
 ],
 "metadata": {
  "kernelspec": {
   "display_name": "Python 3",
   "language": "python",
   "name": "python3"
  },
  "language_info": {
   "codemirror_mode": {
    "name": "ipython",
    "version": 3
   },
   "file_extension": ".py",
   "mimetype": "text/x-python",
   "name": "python",
   "nbconvert_exporter": "python",
   "pygments_lexer": "ipython3",
   "version": "3.7.7"
  },
  "toc": {
   "base_numbering": 1,
   "nav_menu": {},
   "number_sections": false,
   "sideBar": true,
   "skip_h1_title": false,
   "title_cell": "Table of Contents",
   "title_sidebar": "Contents",
   "toc_cell": false,
   "toc_position": {},
   "toc_section_display": true,
   "toc_window_display": false
  },
  "varInspector": {
   "cols": {
    "lenName": 16,
    "lenType": 16,
    "lenVar": 40
   },
   "kernels_config": {
    "python": {
     "delete_cmd_postfix": "",
     "delete_cmd_prefix": "del ",
     "library": "var_list.py",
     "varRefreshCmd": "print(var_dic_list())"
    },
    "r": {
     "delete_cmd_postfix": ") ",
     "delete_cmd_prefix": "rm(",
     "library": "var_list.r",
     "varRefreshCmd": "cat(var_dic_list()) "
    }
   },
   "types_to_exclude": [
    "module",
    "function",
    "builtin_function_or_method",
    "instance",
    "_Feature"
   ],
   "window_display": false
  }
 },
 "nbformat": 4,
 "nbformat_minor": 4
}

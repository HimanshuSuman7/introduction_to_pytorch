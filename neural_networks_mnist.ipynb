{
 "cells": [
  {
   "cell_type": "code",
   "execution_count": 1,
   "metadata": {
    "ExecuteTime": {
     "end_time": "2020-05-19T07:19:28.037508Z",
     "start_time": "2020-05-19T07:19:27.435413Z"
    }
   },
   "outputs": [],
   "source": [
    "import numpy as np\n",
    "import matplotlib.pyplot as plt\n",
    "import torch\n",
    "\n",
    "%matplotlib inline\n",
    "%config InlineBackend.figure_format = 'retina'"
   ]
  },
  {
   "cell_type": "code",
   "execution_count": 2,
   "metadata": {
    "ExecuteTime": {
     "end_time": "2020-05-19T07:19:28.241475Z",
     "start_time": "2020-05-19T07:19:28.039382Z"
    }
   },
   "outputs": [],
   "source": [
    "from torchvision import datasets, transforms\n",
    "\n",
    "# transform -> normalise data\n",
    "transform = transforms.Compose([\n",
    "    transforms.ToTensor(),\n",
    "    transforms.Normalize((0.5,), (0.5,))\n",
    "])\n",
    "\n",
    "train_set = datasets.MNIST(\"../Data/\" ,download=False, train=True, transform=transform)\n",
    "train_loader = torch.utils.data.DataLoader(train_set, batch_size=64, shuffle=True)"
   ]
  },
  {
   "cell_type": "code",
   "execution_count": 3,
   "metadata": {
    "ExecuteTime": {
     "end_time": "2020-05-19T07:19:28.250381Z",
     "start_time": "2020-05-19T07:19:28.243383Z"
    }
   },
   "outputs": [
    {
     "data": {
      "text/plain": [
       "<torch.utils.data.dataloader._SingleProcessDataLoaderIter at 0x1a29fd755c8>"
      ]
     },
     "execution_count": 3,
     "metadata": {},
     "output_type": "execute_result"
    }
   ],
   "source": [
    "data_iter = iter(train_loader)\n",
    "data_iter"
   ]
  },
  {
   "cell_type": "code",
   "execution_count": 4,
   "metadata": {
    "ExecuteTime": {
     "end_time": "2020-05-19T07:19:28.291622Z",
     "start_time": "2020-05-19T07:19:28.252384Z"
    }
   },
   "outputs": [
    {
     "name": "stdout",
     "output_type": "stream",
     "text": [
      "Images :  <class 'torch.Tensor'>\n",
      "Image shape :  torch.Size([64, 1, 28, 28])\n",
      "Label shape :  torch.Size([64])\n"
     ]
    }
   ],
   "source": [
    "# from first batch\n",
    "images, labels = data_iter.next()\n",
    "print(\"Images : \", type(images))\n",
    "print(\"Image shape : \", images.shape)\n",
    "print(\"Label shape : \", labels.shape)"
   ]
  },
  {
   "cell_type": "code",
   "execution_count": 5,
   "metadata": {
    "ExecuteTime": {
     "end_time": "2020-05-19T07:19:28.496660Z",
     "start_time": "2020-05-19T07:19:28.292626Z"
    }
   },
   "outputs": [
    {
     "data": {
      "text/plain": [
       "<matplotlib.image.AxesImage at 0x1a29fecfd48>"
      ]
     },
     "execution_count": 5,
     "metadata": {},
     "output_type": "execute_result"
    },
    {
     "data": {
      "image/png": "[encoded data removed]",
      "text/plain": [
       "<Figure size 432x288 with 1 Axes>"
      ]
     },
     "metadata": {
      "image/png": {
       "height": 248,
       "width": 251
      },
      "needs_background": "light"
     },
     "output_type": "display_data"
    }
   ],
   "source": [
    "plt.imshow(images[1].numpy().squeeze(), cmap=\"Greys_r\")"
   ]
  },
  {
   "cell_type": "code",
   "execution_count": 6,
   "metadata": {
    "ExecuteTime": {
     "end_time": "2020-05-19T07:19:28.505620Z",
     "start_time": "2020-05-19T07:19:28.498624Z"
    }
   },
   "outputs": [],
   "source": [
    "def sigmoid_act(x):\n",
    "    return 1 / (1 + torch.exp(-x))\n",
    "\n",
    "# flatten the images from 28x28 to 784\n",
    "# either insert -1 or 784\n",
    "inputs = images.view(images.shape[0], -1)\n",
    "\n",
    "# params\n",
    "w1 = torch.randn(784, 256)\n",
    "b1 = torch.randn(256)\n",
    "\n",
    "w2 = torch.randn(256, 10)\n",
    "b2 = torch.randn(10)"
   ]
  },
  {
   "cell_type": "code",
   "execution_count": 7,
   "metadata": {
    "ExecuteTime": {
     "end_time": "2020-05-19T07:19:28.538623Z",
     "start_time": "2020-05-19T07:19:28.507627Z"
    }
   },
   "outputs": [
    {
     "name": "stdout",
     "output_type": "stream",
     "text": [
      "Hidden :  torch.Size([64, 256])\n",
      "Output :  torch.Size([64, 10])\n"
     ]
    }
   ],
   "source": [
    "h = sigmoid_act(torch.mm(inputs, w1) + b1)\n",
    "print(\"Hidden : \", h.shape)\n",
    "out = torch.mm(h, w2) + b2\n",
    "print(\"Output : \", out.shape)"
   ]
  },
  {
   "cell_type": "code",
   "execution_count": 8,
   "metadata": {
    "ExecuteTime": {
     "end_time": "2020-05-19T07:19:28.571622Z",
     "start_time": "2020-05-19T07:19:28.542624Z"
    }
   },
   "outputs": [
    {
     "name": "stdout",
     "output_type": "stream",
     "text": [
      "Output shape :  torch.Size([64, 10])\n",
      "Probabilities (column summed up) : \n",
      " tensor([1.0000, 1.0000, 1.0000, 1.0000, 1.0000, 1.0000, 1.0000, 1.0000, 1.0000,\n",
      "        1.0000, 1.0000, 1.0000, 1.0000, 1.0000, 1.0000, 1.0000, 1.0000, 1.0000,\n",
      "        1.0000, 1.0000, 1.0000, 1.0000, 1.0000, 1.0000, 1.0000, 1.0000, 1.0000,\n",
      "        1.0000, 1.0000, 1.0000, 1.0000, 1.0000, 1.0000, 1.0000, 1.0000, 1.0000,\n",
      "        1.0000, 1.0000, 1.0000, 1.0000, 1.0000, 1.0000, 1.0000, 1.0000, 1.0000,\n",
      "        1.0000, 1.0000, 1.0000, 1.0000, 1.0000, 1.0000, 1.0000, 1.0000, 1.0000,\n",
      "        1.0000, 1.0000, 1.0000, 1.0000, 1.0000, 1.0000, 1.0000, 1.0000, 1.0000,\n",
      "        1.0000])\n"
     ]
    }
   ],
   "source": [
    "# defining softmax function\n",
    "def softmax(x):\n",
    "    \"\"\"dim 0 calculates row-wise and dim 1 calculates column-wise\"\"\"\n",
    "    return torch.exp(x) / torch.sum(torch.exp(x), dim=1).view(-1, 1)\n",
    "\n",
    "# softmax functon range - [0, 1]\n",
    "prob = softmax(out)\n",
    "print(\"Output shape : \", prob.shape)\n",
    "print(\"Probabilities (column summed up) : \\n\", prob.sum(dim=1))"
   ]
  },
  {
   "cell_type": "code",
   "execution_count": 9,
   "metadata": {
    "ExecuteTime": {
     "end_time": "2020-05-19T07:19:28.589622Z",
     "start_time": "2020-05-19T07:19:28.573625Z"
    }
   },
   "outputs": [],
   "source": [
    "# neural network using nn\n",
    "from torch import nn\n",
    "\n",
    "class Network(nn.Module):\n",
    "    def __init__(self):\n",
    "        super().__init__()\n",
    "        \n",
    "        # inputs to hidden layer linear transformation\n",
    "        self.hidden = nn.Linear(784, 256)\n",
    "        # output layer\n",
    "        self.output = nn.Linear(256, 10)\n",
    "        \n",
    "        # sigmoid and softmax function\n",
    "        self.sigmoid = nn.Sigmoid()\n",
    "        self.softmax = nn.Softmax(dim=1)\n",
    "        \n",
    "    def forward(self, x):\n",
    "        x = self.hidden(x)\n",
    "        x = self.sigmoid(x)\n",
    "        x = self.output(x)\n",
    "        x = self.softmax(x)\n",
    "        return x"
   ]
  },
  {
   "cell_type": "code",
   "execution_count": 10,
   "metadata": {
    "ExecuteTime": {
     "end_time": "2020-05-19T07:19:28.613655Z",
     "start_time": "2020-05-19T07:19:28.590623Z"
    }
   },
   "outputs": [],
   "source": [
    "# neural network using nn functional\n",
    "import torch.nn.functional as F\n",
    "\n",
    "class Network(nn.Module):\n",
    "    def __init__(self):\n",
    "        super().__init__()\n",
    "        self.hidden = nn.Linear(784, 256)\n",
    "        self.output = nn.Linear(256, 10)\n",
    "    \n",
    "    def forward(self, x):\n",
    "        x = F.sigmoid(self.hidden(x))\n",
    "        x = F.softmax(self.output(x), dim=1)\n",
    "        return x"
   ]
  },
  {
   "cell_type": "code",
   "execution_count": 11,
   "metadata": {
    "ExecuteTime": {
     "end_time": "2020-05-19T07:19:28.648643Z",
     "start_time": "2020-05-19T07:19:28.616621Z"
    }
   },
   "outputs": [
    {
     "data": {
      "text/plain": [
       "Network(\n",
       "  (hidden): Linear(in_features=784, out_features=256, bias=True)\n",
       "  (output): Linear(in_features=256, out_features=10, bias=True)\n",
       ")"
      ]
     },
     "execution_count": 11,
     "metadata": {},
     "output_type": "execute_result"
    }
   ],
   "source": [
    "model = Network()\n",
    "model"
   ]
  },
  {
   "cell_type": "code",
   "execution_count": 12,
   "metadata": {
    "ExecuteTime": {
     "end_time": "2020-05-19T07:19:28.722625Z",
     "start_time": "2020-05-19T07:19:28.651623Z"
    }
   },
   "outputs": [
    {
     "data": {
      "text/plain": [
       "Network(\n",
       "  (fc1): Linear(in_features=784, out_features=128, bias=True)\n",
       "  (fc2): Linear(in_features=128, out_features=64, bias=True)\n",
       "  (fc3): Linear(in_features=64, out_features=10, bias=True)\n",
       ")"
      ]
     },
     "execution_count": 12,
     "metadata": {},
     "output_type": "execute_result"
    }
   ],
   "source": [
    "\"\"\"\n",
    "Create a network: \n",
    "Input units : 784\n",
    "Hidden layer units : 128 (ReLU activation)\n",
    "Hidden layer units : 64 (ReLU activation)\n",
    "Output layerunits : 10 (Softmax activation)\n",
    "\"\"\"\n",
    "\n",
    "class Network(nn.Module):\n",
    "    def __init__(self):\n",
    "        super().__init__()\n",
    "        self.fc1 = nn.Linear(784, 128)\n",
    "        self.fc2 = nn.Linear(128, 64)\n",
    "        self.fc3 = nn.Linear(64, 10)\n",
    "    \n",
    "    def Forward(self, x):\n",
    "        x = F.relu(self.fc1(x))\n",
    "        x = F.relu(self.fc2(x))\n",
    "        x = F.softmax(self.fc3(x), dim=1)\n",
    "        return x\n",
    "\n",
    "model = Network()\n",
    "model"
   ]
  },
  {
   "cell_type": "code",
   "execution_count": 13,
   "metadata": {
    "ExecuteTime": {
     "end_time": "2020-05-19T07:19:28.775620Z",
     "start_time": "2020-05-19T07:19:28.724620Z"
    }
   },
   "outputs": [
    {
     "data": {
      "text/plain": [
       "Parameter containing:\n",
       "tensor([[ 0.0081, -0.0121, -0.0051,  ..., -0.0115,  0.0011,  0.0077],\n",
       "        [ 0.0269,  0.0267,  0.0154,  ..., -0.0099, -0.0263,  0.0289],\n",
       "        [-0.0326, -0.0255, -0.0048,  ..., -0.0005, -0.0138, -0.0064],\n",
       "        ...,\n",
       "        [ 0.0227, -0.0150, -0.0342,  ..., -0.0025,  0.0086, -0.0264],\n",
       "        [ 0.0056, -0.0236, -0.0071,  ...,  0.0060,  0.0300, -0.0129],\n",
       "        [ 0.0201,  0.0185, -0.0103,  ..., -0.0030,  0.0129,  0.0082]],\n",
       "       requires_grad=True)"
      ]
     },
     "execution_count": 13,
     "metadata": {},
     "output_type": "execute_result"
    }
   ],
   "source": [
    "model.fc1.weight"
   ]
  },
  {
   "cell_type": "code",
   "execution_count": 14,
   "metadata": {
    "ExecuteTime": {
     "end_time": "2020-05-19T07:19:28.807623Z",
     "start_time": "2020-05-19T07:19:28.776625Z"
    }
   },
   "outputs": [
    {
     "data": {
      "text/plain": [
       "Parameter containing:\n",
       "tensor([ 0.0302,  0.0069,  0.0119,  0.0152,  0.0265, -0.0215, -0.0112,  0.0246,\n",
       "        -0.0110,  0.0301, -0.0304, -0.0023, -0.0069, -0.0329,  0.0319,  0.0116,\n",
       "         0.0009,  0.0139, -0.0199,  0.0175,  0.0298,  0.0041,  0.0286, -0.0284,\n",
       "        -0.0346,  0.0046,  0.0207, -0.0190,  0.0179, -0.0224, -0.0319,  0.0355,\n",
       "        -0.0115, -0.0082,  0.0176, -0.0138,  0.0232,  0.0280,  0.0149, -0.0305,\n",
       "         0.0172,  0.0207, -0.0305,  0.0094, -0.0151,  0.0188,  0.0097,  0.0029,\n",
       "        -0.0067,  0.0120, -0.0352, -0.0220, -0.0249,  0.0291, -0.0042,  0.0109,\n",
       "        -0.0229,  0.0139, -0.0334,  0.0256,  0.0351, -0.0061, -0.0177,  0.0281,\n",
       "         0.0357, -0.0143, -0.0082,  0.0197,  0.0323, -0.0311, -0.0090,  0.0175,\n",
       "         0.0014,  0.0127,  0.0048,  0.0073,  0.0294, -0.0099,  0.0296,  0.0111,\n",
       "         0.0229, -0.0309,  0.0195,  0.0182, -0.0073, -0.0018,  0.0226, -0.0203,\n",
       "         0.0070, -0.0326, -0.0209,  0.0333,  0.0070, -0.0149,  0.0117,  0.0184,\n",
       "        -0.0172,  0.0111, -0.0141, -0.0013,  0.0006, -0.0220, -0.0055,  0.0011,\n",
       "        -0.0213, -0.0176, -0.0005,  0.0023, -0.0289, -0.0082, -0.0143, -0.0095,\n",
       "         0.0323, -0.0151,  0.0037,  0.0066,  0.0316,  0.0283, -0.0057,  0.0175,\n",
       "        -0.0041, -0.0040, -0.0198, -0.0031, -0.0246, -0.0273, -0.0322,  0.0251],\n",
       "       requires_grad=True)"
      ]
     },
     "execution_count": 14,
     "metadata": {},
     "output_type": "execute_result"
    }
   ],
   "source": [
    "model.fc1.bias"
   ]
  },
  {
   "cell_type": "code",
   "execution_count": 15,
   "metadata": {
    "ExecuteTime": {
     "end_time": "2020-05-19T07:19:28.847623Z",
     "start_time": "2020-05-19T07:19:28.808628Z"
    }
   },
   "outputs": [
    {
     "data": {
      "text/plain": [
       "tensor([[0., 0., 0.,  ..., 0., 0., 0.],\n",
       "        [0., 0., 0.,  ..., 0., 0., 0.],\n",
       "        [0., 0., 0.,  ..., 0., 0., 0.],\n",
       "        ...,\n",
       "        [0., 0., 0.,  ..., 0., 0., 0.],\n",
       "        [0., 0., 0.,  ..., 0., 0., 0.],\n",
       "        [0., 0., 0.,  ..., 0., 0., 0.]])"
      ]
     },
     "execution_count": 15,
     "metadata": {},
     "output_type": "execute_result"
    }
   ],
   "source": [
    "model.fc1.weight.data.fill_(0)"
   ]
  },
  {
   "cell_type": "code",
   "execution_count": 16,
   "metadata": {
    "ExecuteTime": {
     "end_time": "2020-05-19T07:19:28.895621Z",
     "start_time": "2020-05-19T07:19:28.849621Z"
    }
   },
   "outputs": [
    {
     "data": {
      "text/plain": [
       "tensor([[-0.0035, -0.0075, -0.0124,  ..., -0.0014,  0.0014,  0.0005],\n",
       "        [-0.0026,  0.0113, -0.0083,  ..., -0.0069,  0.0063,  0.0053],\n",
       "        [ 0.0167, -0.0051,  0.0031,  ..., -0.0008, -0.0105,  0.0048],\n",
       "        ...,\n",
       "        [-0.0059, -0.0141, -0.0108,  ..., -0.0227, -0.0135,  0.0008],\n",
       "        [-0.0004, -0.0032,  0.0094,  ...,  0.0079,  0.0137, -0.0075],\n",
       "        [-0.0082, -0.0081, -0.0022,  ..., -0.0114, -0.0085,  0.0143]])"
      ]
     },
     "execution_count": 16,
     "metadata": {},
     "output_type": "execute_result"
    }
   ],
   "source": [
    "model.fc1.weight.data.normal_(std=0.01)"
   ]
  },
  {
   "cell_type": "code",
   "execution_count": 17,
   "metadata": {
    "ExecuteTime": {
     "end_time": "2020-05-19T07:19:28.918625Z",
     "start_time": "2020-05-19T07:19:28.898624Z"
    }
   },
   "outputs": [],
   "source": [
    "def view_classify(img, ps):\n",
    "    ps = ps.data.numpy().squeeze()\n",
    "    fig, (ax1, ax2) = plt.subplots(figsize=(6,9), ncols=2)\n",
    "    ax1.imshow(img.resize_(1, 28, 28).numpy().squeeze())\n",
    "    ax1.axis('off')\n",
    "    ax2.barh(np.arange(10), ps)\n",
    "    ax2.set_aspect(0.1)\n",
    "    ax2.set_yticks(np.arange(10))\n",
    "    ax2.set_yticklabels(np.arange(10))\n",
    "    ax2.set_title('Class Probability')\n",
    "    ax2.set_xlim(0, 1.1)"
   ]
  },
  {
   "cell_type": "code",
   "execution_count": 18,
   "metadata": {
    "ExecuteTime": {
     "end_time": "2020-05-19T07:19:29.238622Z",
     "start_time": "2020-05-19T07:19:28.920623Z"
    }
   },
   "outputs": [
    {
     "data": {
      "image/png": "[encoded data removed]",
      "text/plain": [
       "<Figure size 432x648 with 2 Axes>"
      ]
     },
     "metadata": {
      "image/png": {
       "height": 195,
       "width": 349
      },
      "needs_background": "light"
     },
     "output_type": "display_data"
    }
   ],
   "source": [
    "# collect data\n",
    "data_iter = iter(train_loader)\n",
    "images, labels = data_iter.next()\n",
    "\n",
    "# resize images into 1D vector\n",
    "# images.resize_(batch_size, color_channel, image_pixels)\n",
    "images.resize_(64, 1, 784)\n",
    "\n",
    "# forward pass through the network\n",
    "img_idx = 0\n",
    "ps = model.Forward(images[img_idx, :])\n",
    "\n",
    "img = images[img_idx]\n",
    "view_classify(img.view(1, 28, 28), ps)"
   ]
  },
  {
   "cell_type": "code",
   "execution_count": 19,
   "metadata": {
    "ExecuteTime": {
     "end_time": "2020-05-19T07:19:29.524621Z",
     "start_time": "2020-05-19T07:19:29.239621Z"
    }
   },
   "outputs": [
    {
     "name": "stdout",
     "output_type": "stream",
     "text": [
      "Sequential(\n",
      "  (0): Linear(in_features=784, out_features=128, bias=True)\n",
      "  (1): ReLU()\n",
      "  (2): Linear(in_features=128, out_features=64, bias=True)\n",
      "  (3): ReLU()\n",
      "  (4): Linear(in_features=64, out_features=10, bias=True)\n",
      "  (5): Softmax(dim=1)\n",
      ")\n"
     ]
    },
    {
     "data": {
      "image/png": "[encoded data removed]",
      "text/plain": [
       "<Figure size 432x648 with 2 Axes>"
      ]
     },
     "metadata": {
      "image/png": {
       "height": 195,
       "width": 349
      },
      "needs_background": "light"
     },
     "output_type": "display_data"
    }
   ],
   "source": [
    "# using nn.Sequential\n",
    "\n",
    "# hyperparams for network\n",
    "input_size = 784\n",
    "hidden_sizes = [128, 64]\n",
    "output_size = 10\n",
    "\n",
    "# feed-forward network\n",
    "model = nn.Sequential(nn.Linear(input_size, hidden_sizes[0]),\n",
    "                      nn.ReLU(),\n",
    "                      nn.Linear(hidden_sizes[0], hidden_sizes[1]),\n",
    "                      nn.ReLU(),\n",
    "                      nn.Linear(hidden_sizes[1], output_size),\n",
    "                      nn.Softmax(dim=1))\n",
    "\n",
    "print(model)\n",
    "\n",
    "ps = model.forward(images[0, :])\n",
    "view_classify(images[0].view(1, 28, 28), ps)"
   ]
  },
  {
   "cell_type": "code",
   "execution_count": 20,
   "metadata": {
    "ExecuteTime": {
     "end_time": "2020-05-19T07:19:29.532659Z",
     "start_time": "2020-05-19T07:19:29.525624Z"
    }
   },
   "outputs": [
    {
     "data": {
      "text/plain": [
       "Parameter containing:\n",
       "tensor([[-0.0125,  0.0019, -0.0195,  ...,  0.0304,  0.0287, -0.0131],\n",
       "        [-0.0223, -0.0233,  0.0137,  ..., -0.0216,  0.0188, -0.0056],\n",
       "        [-0.0039, -0.0119,  0.0302,  ..., -0.0134,  0.0180,  0.0200],\n",
       "        ...,\n",
       "        [ 0.0251, -0.0348, -0.0326,  ...,  0.0172,  0.0351, -0.0324],\n",
       "        [-0.0268, -0.0226,  0.0326,  ..., -0.0144,  0.0265, -0.0111],\n",
       "        [-0.0303, -0.0255,  0.0270,  ..., -0.0167,  0.0061,  0.0355]],\n",
       "       requires_grad=True)"
      ]
     },
     "execution_count": 20,
     "metadata": {},
     "output_type": "execute_result"
    }
   ],
   "source": [
    "model[0].weight"
   ]
  },
  {
   "cell_type": "code",
   "execution_count": 21,
   "metadata": {
    "ExecuteTime": {
     "end_time": "2020-05-19T07:19:29.561621Z",
     "start_time": "2020-05-19T07:19:29.534627Z"
    }
   },
   "outputs": [
    {
     "data": {
      "text/plain": [
       "Parameter containing:\n",
       "tensor([[-0.0084,  0.0201, -0.0116,  ..., -0.0280, -0.0314,  0.0197],\n",
       "        [ 0.0111,  0.0165, -0.0097,  ...,  0.0072, -0.0232, -0.0087],\n",
       "        [ 0.0089, -0.0252, -0.0139,  ..., -0.0201, -0.0120,  0.0180],\n",
       "        ...,\n",
       "        [ 0.0037,  0.0190, -0.0293,  ..., -0.0346, -0.0044,  0.0104],\n",
       "        [ 0.0252,  0.0250,  0.0237,  ...,  0.0008, -0.0191,  0.0028],\n",
       "        [ 0.0140,  0.0002, -0.0204,  ...,  0.0252, -0.0342, -0.0086]],\n",
       "       requires_grad=True)"
      ]
     },
     "execution_count": 21,
     "metadata": {},
     "output_type": "execute_result"
    }
   ],
   "source": [
    "from collections import OrderedDict\n",
    "\n",
    "model = nn.Sequential(OrderedDict([\n",
    "                      ('fc1', nn.Linear(input_size, hidden_sizes[0])),\n",
    "                      ('relu1', nn.ReLU()),\n",
    "                      ('fc2', nn.Linear(hidden_sizes[0], hidden_sizes[1])),\n",
    "                      ('relu2', nn.ReLU()),\n",
    "                      ('output', nn.Linear(hidden_sizes[1], output_size)),\n",
    "                      ('softmax', nn.Softmax(dim=1))]))\n",
    "\n",
    "model.fc1.weight"
   ]
  },
  {
   "cell_type": "code",
   "execution_count": null,
   "metadata": {},
   "outputs": [],
   "source": []
  }
 ],
 "metadata": {
  "kernelspec": {
   "display_name": "Python 3",
   "language": "python",
   "name": "python3"
  },
  "language_info": {
   "codemirror_mode": {
    "name": "ipython",
    "version": 3
   },
   "file_extension": ".py",
   "mimetype": "text/x-python",
   "name": "python",
   "nbconvert_exporter": "python",
   "pygments_lexer": "ipython3",
   "version": "3.7.7"
  },
  "toc": {
   "base_numbering": 1,
   "nav_menu": {},
   "number_sections": false,
   "sideBar": true,
   "skip_h1_title": false,
   "title_cell": "Table of Contents",
   "title_sidebar": "Contents",
   "toc_cell": false,
   "toc_position": {},
   "toc_section_display": true,
   "toc_window_display": false
  },
  "varInspector": {
   "cols": {
    "lenName": 16,
    "lenType": 16,
    "lenVar": 40
   },
   "kernels_config": {
    "python": {
     "delete_cmd_postfix": "",
     "delete_cmd_prefix": "del ",
     "library": "var_list.py",
     "varRefreshCmd": "print(var_dic_list())"
    },
    "r": {
     "delete_cmd_postfix": ") ",
     "delete_cmd_prefix": "rm(",
     "library": "var_list.r",
     "varRefreshCmd": "cat(var_dic_list()) "
    }
   },
   "types_to_exclude": [
    "module",
    "function",
    "builtin_function_or_method",
    "instance",
    "_Feature"
   ],
   "window_display": false
  }
 },
 "nbformat": 4,
 "nbformat_minor": 4
}
